{
 "cells": [
  {
   "cell_type": "markdown",
   "id": "f9c63653-0144-4a24-b913-8bc4e42bcbe9",
   "metadata": {},
   "source": [
    "we are going to be doing a toy project where the modeling task is to predict the first character of the ICD10 code based on it's description. \n",
    "\n",
    "run this cell to import the tools we need "
   ]
  },
  {
   "cell_type": "code",
   "execution_count": 1,
   "id": "5956d673-9721-4a2c-a19f-8965035781cb",
   "metadata": {},
   "outputs": [],
   "source": [
    "%load_ext autoreload\n",
    "%autoreload 2\n",
    "%reload_ext autoreload\n",
    "%matplotlib inline\n",
    "\n",
    "import polars as pl\n",
    "import torch \n",
    "from transformers import AutoTokenizer, AutoModelForCausalLM\n",
    "from transformers import pipeline\n",
    "\n",
    "from clinical_ai.data_utils import render_chat_inputs, predict_letters_batched "
   ]
  },
  {
   "cell_type": "markdown",
   "id": "f9cd2154-fb58-42a0-8e91-0ab20e44a435",
   "metadata": {},
   "source": [
    "the model is composed of a large language model (LLM) and a tokenizer"
   ]
  },
  {
   "cell_type": "code",
   "execution_count": 13,
   "id": "a99fb4e0-b9f3-4588-848b-ce88136a0727",
   "metadata": {},
   "outputs": [
    {
     "name": "stderr",
     "output_type": "stream",
     "text": [
      "Device set to use cpu\n"
     ]
    }
   ],
   "source": [
    "model_id = \"Qwen/Qwen2.5-0.5B-Instruct\"\n",
    "\n",
    "llm = AutoModelForCausalLM.from_pretrained(\n",
    "    pretrained_model_name_or_path=model_id,\n",
    ")\n",
    "\n",
    "tokenizer = AutoTokenizer.from_pretrained(model_id)\n",
    "\n",
    "# (set pad_token_id to avoid warnings if the tokenizer lacks one)\n",
    "pad_id = tokenizer.pad_token_id if tokenizer.pad_token_id is not None else tokenizer.eos_token_id\n",
    "\n",
    "model = pipeline(\n",
    "    task=\"text-generation\",\n",
    "    model=llm,\n",
    "    tokenizer=tokenizer,\n",
    "    device=0 if torch.cuda.is_available() else -1,\n",
    ")"
   ]
  },
  {
   "cell_type": "markdown",
   "id": "0ef72770-8449-4585-b03a-8c2097122e75",
   "metadata": {},
   "source": [
    "this is how you use the model\n",
    "\n",
    "you give it a set of instructions, user_instruction, on how to use the data, user_context, then the two are packed into a prompt and the model predicts what comes next after the prompt, hopefully the thing it predicts comes next is the right answer"
   ]
  },
  {
   "cell_type": "code",
   "execution_count": 19,
   "id": "04a62edb-875f-4529-b849-97fd3f4c814c",
   "metadata": {},
   "outputs": [
    {
     "name": "stdout",
     "output_type": "stream",
     "text": [
      "\"<|im_start|>system\\nYou are Qwen, created by Alibaba Cloud. You are a helpful assistant.<|im_end|>\\n<|im_start|>user\\n\\nI am about to give you a description of a disease. \\nPredict the first character of the ICD10 Code associated with that description.\\nIn general E codes are related to Endocrine, nutritional and metabolic diseases\\n'Type 2 diabetes mellitus with diabetic chronic kidney disease' corresponds to 'E11.22'\\nSo for example: \\nif I say 'Type 2 diabetes mellitus with diabetic chronic kidney disease', then you just respond 'E'\\n<|im_end|>\\n<|im_start|>user\\nType 2 diabetes mellitus with diabetic chronic kidney disease<|im_end|>\\n<|im_start|>assistant\\n\" \n",
      "\n",
      "The first character is: E\n"
     ]
    }
   ],
   "source": [
    "user_instruction = \"\"\"\n",
    "I am about to give you a description of a disease. \n",
    "Predict the first character of the ICD10 Code associated with that description.\n",
    "In general E codes are related to Endocrine, nutritional and metabolic diseases\n",
    "'Type 2 diabetes mellitus with diabetic chronic kidney disease' corresponds to 'E11.22'\n",
    "So for example: \n",
    "if I say 'Type 2 diabetes mellitus with diabetic chronic kidney disease', then you just respond 'E'\n",
    "\"\"\"\n",
    "\n",
    "enc = render_chat_inputs(\n",
    "    tokenizer = tokenizer,\n",
    "    user_instruction = user_instruction,\n",
    "    user_context = \"Type 2 diabetes mellitus with diabetic chronic kidney disease\",\n",
    ")\n",
    "\n",
    "prompt = enc[\"text\"]\n",
    "\n",
    "print(repr(prompt),\"\\n\")\n",
    "\n",
    "# Greedy decoding for exactly 1 new tokens\n",
    "out = model(\n",
    "    prompt,\n",
    "    max_new_tokens=1,\n",
    "    do_sample=False,            # greedy (argmax) decoding\n",
    "    num_return_sequences=1,\n",
    "    return_full_text=False,     # only return the newly generated continuation\n",
    "    pad_token_id=pad_id,\n",
    "    eos_token_id=tokenizer.eos_token_id,\n",
    ")\n",
    "\n",
    "greedy_3_tokens_text = out[0][\"generated_text\"]\n",
    "print(f\"The first character is: {greedy_3_tokens_text}\")"
   ]
  },
  {
   "cell_type": "markdown",
   "id": "0f5875ca-6b99-4d79-b2eb-c3712f159728",
   "metadata": {},
   "source": [
    "now lets load some data for the tasks"
   ]
  },
  {
   "cell_type": "code",
   "execution_count": 20,
   "id": "1e281980-8619-4e97-89aa-b209000c5b0b",
   "metadata": {},
   "outputs": [
    {
     "data": {
      "text/html": [
       "<div><style>\n",
       ".dataframe > thead > tr,\n",
       ".dataframe > tbody > tr {\n",
       "  text-align: right;\n",
       "  white-space: pre-wrap;\n",
       "}\n",
       "</style>\n",
       "<small>shape: (4, 10)</small><table border=\"1\" class=\"dataframe\"><thead><tr><th>ORDER_NUMBER</th><th>CODE</th><th>IS_VALID</th><th>SHORT_DESCRIPTION</th><th>LONG_DESCRIPTION</th><th>PARENT_ORDER_NUMBER</th><th>PARENT_CODE</th><th>PARENT_IS_VALID</th><th>PARENT_SHORT_DESCRIPTION</th><th>PARENT_LONG_DESCRIPTION</th></tr><tr><td>i64</td><td>str</td><td>i64</td><td>str</td><td>str</td><td>i64</td><td>str</td><td>i64</td><td>str</td><td>str</td></tr></thead><tbody><tr><td>4198</td><td>&quot;E103211&quot;</td><td>1</td><td>&quot;Type 1 diab with mild nonp rtn…</td><td>&quot;Type 1 diabetes mellitus with …</td><td>4184</td><td>&quot;E10&quot;</td><td>0</td><td>&quot;Type 1 diabetes mellitus&quot;</td><td>&quot;Type 1 diabetes mellitus&quot;</td></tr><tr><td>1645</td><td>&quot;C4419&quot;</td><td>0</td><td>&quot;Oth malignant neoplasm of skin…</td><td>&quot;Other specified malignant neop…</td><td>1606</td><td>&quot;C44&quot;</td><td>0</td><td>&quot;Other and unspecified malignan…</td><td>&quot;Other and unspecified malignan…</td></tr><tr><td>5073</td><td>&quot;E849&quot;</td><td>1</td><td>&quot;Cystic fibrosis, unspecified&quot;</td><td>&quot;Cystic fibrosis, unspecified&quot;</td><td>5067</td><td>&quot;E84&quot;</td><td>0</td><td>&quot;Cystic fibrosis&quot;</td><td>&quot;Cystic fibrosis&quot;</td></tr><tr><td>3616</td><td>&quot;D6103&quot;</td><td>1</td><td>&quot;Fanconi anemia&quot;</td><td>&quot;Fanconi anemia&quot;</td><td>3612</td><td>&quot;D61&quot;</td><td>0</td><td>&quot;Oth aplastic anemias and other…</td><td>&quot;Other aplastic anemias and oth…</td></tr></tbody></table></div>"
      ],
      "text/plain": [
       "shape: (4, 10)\n",
       "┌────────────┬─────────┬──────────┬────────────┬───┬───────────┬───────────┬───────────┬───────────┐\n",
       "│ ORDER_NUMB ┆ CODE    ┆ IS_VALID ┆ SHORT_DESC ┆ … ┆ PARENT_CO ┆ PARENT_IS ┆ PARENT_SH ┆ PARENT_LO │\n",
       "│ ER         ┆ ---     ┆ ---      ┆ RIPTION    ┆   ┆ DE        ┆ _VALID    ┆ ORT_DESCR ┆ NG_DESCRI │\n",
       "│ ---        ┆ str     ┆ i64      ┆ ---        ┆   ┆ ---       ┆ ---       ┆ IPTION    ┆ PTION     │\n",
       "│ i64        ┆         ┆          ┆ str        ┆   ┆ str       ┆ i64       ┆ ---       ┆ ---       │\n",
       "│            ┆         ┆          ┆            ┆   ┆           ┆           ┆ str       ┆ str       │\n",
       "╞════════════╪═════════╪══════════╪════════════╪═══╪═══════════╪═══════════╪═══════════╪═══════════╡\n",
       "│ 4198       ┆ E103211 ┆ 1        ┆ Type 1     ┆ … ┆ E10       ┆ 0         ┆ Type 1    ┆ Type 1    │\n",
       "│            ┆         ┆          ┆ diab with  ┆   ┆           ┆           ┆ diabetes  ┆ diabetes  │\n",
       "│            ┆         ┆          ┆ mild nonp  ┆   ┆           ┆           ┆ mellitus  ┆ mellitus  │\n",
       "│            ┆         ┆          ┆ rtn…       ┆   ┆           ┆           ┆           ┆           │\n",
       "│ 1645       ┆ C4419   ┆ 0        ┆ Oth        ┆ … ┆ C44       ┆ 0         ┆ Other and ┆ Other and │\n",
       "│            ┆         ┆          ┆ malignant  ┆   ┆           ┆           ┆ unspecifi ┆ unspecifi │\n",
       "│            ┆         ┆          ┆ neoplasm   ┆   ┆           ┆           ┆ ed        ┆ ed        │\n",
       "│            ┆         ┆          ┆ of skin…   ┆   ┆           ┆           ┆ malignan… ┆ malignan… │\n",
       "│ 5073       ┆ E849    ┆ 1        ┆ Cystic     ┆ … ┆ E84       ┆ 0         ┆ Cystic    ┆ Cystic    │\n",
       "│            ┆         ┆          ┆ fibrosis,  ┆   ┆           ┆           ┆ fibrosis  ┆ fibrosis  │\n",
       "│            ┆         ┆          ┆ unspecifie ┆   ┆           ┆           ┆           ┆           │\n",
       "│            ┆         ┆          ┆ d          ┆   ┆           ┆           ┆           ┆           │\n",
       "│ 3616       ┆ D6103   ┆ 1        ┆ Fanconi    ┆ … ┆ D61       ┆ 0         ┆ Oth       ┆ Other     │\n",
       "│            ┆         ┆          ┆ anemia     ┆   ┆           ┆           ┆ aplastic  ┆ aplastic  │\n",
       "│            ┆         ┆          ┆            ┆   ┆           ┆           ┆ anemias   ┆ anemias   │\n",
       "│            ┆         ┆          ┆            ┆   ┆           ┆           ┆ and       ┆ and oth…  │\n",
       "│            ┆         ┆          ┆            ┆   ┆           ┆           ┆ other…    ┆           │\n",
       "└────────────┴─────────┴──────────┴────────────┴───┴───────────┴───────────┴───────────┴───────────┘"
      ]
     },
     "execution_count": 20,
     "metadata": {},
     "output_type": "execute_result"
    }
   ],
   "source": [
    "df = pl.read_csv(\"icd10_order_fy26.csv\")\n",
    "# filter rows where CODE starts with A, B, C, D, or E\n",
    "df = df.filter(\n",
    "    pl.col(\"CODE\").str.slice(0, 1).is_in([\"A\", \"B\", \"C\", \"D\", \"E\"])\n",
    ")\n",
    "df = df.sample(n=100, with_replacement=False, shuffle=True, seed=42)\n",
    "df.head(4)"
   ]
  },
  {
   "cell_type": "code",
   "execution_count": 21,
   "id": "ce9547d7-8a49-49e8-a11e-eaadc3bead93",
   "metadata": {},
   "outputs": [
    {
     "data": {
      "text/plain": [
       "Schema([('ORDER_NUMBER', Int64),\n",
       "        ('CODE', String),\n",
       "        ('IS_VALID', Int64),\n",
       "        ('SHORT_DESCRIPTION', String),\n",
       "        ('LONG_DESCRIPTION', String),\n",
       "        ('PARENT_ORDER_NUMBER', Int64),\n",
       "        ('PARENT_CODE', String),\n",
       "        ('PARENT_IS_VALID', Int64),\n",
       "        ('PARENT_SHORT_DESCRIPTION', String),\n",
       "        ('PARENT_LONG_DESCRIPTION', String)])"
      ]
     },
     "execution_count": 21,
     "metadata": {},
     "output_type": "execute_result"
    }
   ],
   "source": [
    "df.schema"
   ]
  },
  {
   "cell_type": "markdown",
   "id": "8cf43924-3fda-49e5-8e57-17d2bd5e3bc8",
   "metadata": {},
   "source": [
    "we use the instructions above to make predictions on all the disease descriptions. this may take several seconds. you will know its done predicting when the table is finally printed."
   ]
  },
  {
   "cell_type": "code",
   "execution_count": 28,
   "id": "bf2596ea-1ec3-4e3c-a3be-32771511d133",
   "metadata": {},
   "outputs": [
    {
     "name": "stdout",
     "output_type": "stream",
     "text": [
      "100 prompts\n",
      "shape: (10, 3)\n",
      "┌─────────┬─────────────────────────────────┬────────────┐\n",
      "│ CODE    ┆ LONG_DESCRIPTION                ┆ PREDICTION │\n",
      "│ ---     ┆ ---                             ┆ ---        │\n",
      "│ str     ┆ str                             ┆ str        │\n",
      "╞═════════╪═════════════════════════════════╪════════════╡\n",
      "│ E103211 ┆ Type 1 diabetes mellitus with … ┆ E          │\n",
      "│ C4419   ┆ Other specified malignant neop… ┆ T          │\n",
      "│ E849    ┆ Cystic fibrosis, unspecified    ┆ C          │\n",
      "│ D6103   ┆ Fanconi anemia                  ┆ C          │\n",
      "│ E093293 ┆ Drug or chemical induced diabe… ┆ D          │\n",
      "│ D142    ┆ Benign neoplasm of trachea      ┆ B          │\n",
      "│ A880    ┆ Enteroviral exanthematous feve… ┆ E          │\n",
      "│ D2210   ┆ Melanocytic nevi of unspecifie… ┆ C          │\n",
      "│ B582    ┆ Toxoplasma meningoencephalitis  ┆ T          │\n",
      "│ E71121  ┆ Propionic acidemia              ┆ T          │\n",
      "└─────────┴─────────────────────────────────┴────────────┘\n"
     ]
    }
   ],
   "source": [
    "# --- Build prompts for each LONG_DESCRIPTION ---\n",
    "# render_chat_inputs(...) -> {\"text\": \"...\"} for the pipeline\n",
    "\n",
    "descriptions = df[\"LONG_DESCRIPTION\"].to_list()\n",
    "\n",
    "prompts = [\n",
    "    render_chat_inputs(\n",
    "        tokenizer=tokenizer,\n",
    "        user_instruction=user_instruction,\n",
    "        user_context=desc if isinstance(desc, str) else \"\"\n",
    "    )[\"text\"]\n",
    "    for desc in descriptions\n",
    "]\n",
    "\n",
    "print(len(prompts), \"prompts\")\n",
    "\n",
    "preds = predict_letters_batched(prompts, model, tokenizer, pad_id, batch_size=32)\n",
    "\n",
    "# --- Attach to Polars DataFrame ---\n",
    "df = df.with_columns(pl.Series(name=\"PREDICTION\", values=preds))\n",
    "\n",
    "# (Optional) quick sanity check\n",
    "print(df.select([\"CODE\", \"LONG_DESCRIPTION\", \"PREDICTION\"]).head(10))"
   ]
  },
  {
   "cell_type": "markdown",
   "id": "74fb3dca-c5ba-435b-8da9-faa5c64f1ad8",
   "metadata": {},
   "source": [
    "I will show you a few examples to give you an idea of the general shape of the answers\n",
    "\n",
    "First, here is how you calculate the accuracy of predicting when a description belongs to the E group of ICDs or not. "
   ]
  },
  {
   "cell_type": "code",
   "execution_count": 30,
   "id": "66beac38-f82a-4700-a97c-fd02d7528aed",
   "metadata": {},
   "outputs": [
    {
     "name": "stdout",
     "output_type": "stream",
     "text": [
      "Binary accuracy (is E vs not E): 0.7800\n"
     ]
    }
   ],
   "source": [
    "# Add E first character\n",
    "df = df.with_columns(\n",
    "    pl.col(\"CODE\").str.slice(0, 1).alias(\"E_FIRST_CHAR\")\n",
    ")\n",
    "\n",
    "# Binary ground truth: 1 if true code starts with E, else 0\n",
    "df = df.with_columns(\n",
    "    (pl.col(\"E_FIRST_CHAR\") == \"E\").cast(pl.Int8).alias(\"IS_E_TRUE\"),\n",
    "    (pl.col(\"PREDICTION\") == \"E\").cast(pl.Int8).alias(\"IS_E_PRED\")\n",
    ")\n",
    "\n",
    "# Correct if prediction matches truth\n",
    "df = df.with_columns(\n",
    "    (pl.col(\"IS_E_TRUE\") == pl.col(\"IS_E_PRED\")).alias(\"IS_CORRECT_E_BINARY\")\n",
    ")\n",
    "\n",
    "# Compute accuracy\n",
    "accuracy_E_binary = df[\"IS_CORRECT_E_BINARY\"].mean()\n",
    "print(f\"Binary accuracy (is E vs not E): {accuracy_E_binary:.4f}\")"
   ]
  },
  {
   "cell_type": "markdown",
   "id": "2820f58c-8164-4248-8252-905118d4c185",
   "metadata": {},
   "source": [
    "this is how you calculate the recall, also known as the sensitivity, of the model being able to find all the E descriptions"
   ]
  },
  {
   "cell_type": "code",
   "execution_count": 25,
   "id": "01036328-f7ca-42e4-b7b8-5dc3a92f2ba4",
   "metadata": {},
   "outputs": [
    {
     "name": "stdout",
     "output_type": "stream",
     "text": [
      "Recall (sensitivity) for E: 0.2800\n"
     ]
    }
   ],
   "source": [
    "# All actual E codes\n",
    "true_E = df.filter(pl.col(\"E_FIRST_CHAR\") == \"E\")\n",
    "\n",
    "# True positives: predicted E when actual is E\n",
    "true_pos_E = true_E.filter(pl.col(\"PREDICTION\") == \"E\").height\n",
    "\n",
    "# Total actual E\n",
    "total_true_E = true_E.height\n",
    "\n",
    "recall_E = true_pos_E / total_true_E if total_true_E > 0 else float(\"nan\")\n",
    "\n",
    "print(f\"Recall (sensitivity) for E: {recall_E:.4f}\")"
   ]
  },
  {
   "cell_type": "markdown",
   "id": "9d948fd6-f5a1-431f-8373-8b64e4bc4993",
   "metadata": {},
   "source": [
    "# 3 Tasks\n",
    "\n",
    "1. Make one cell to calculate the positive predictive value (PPV), also known as the precision. In other words, if the model predicts the description to be an E, what is the probability that it really is an E.\n",
    "\n",
    "2. Given this confusion matrix:\n",
    "\n",
    "```\n",
    "TN = 91 \n",
    "TP = 3 \n",
    "FP = 3 \n",
    "FN = 3\n",
    "```\n",
    "\n",
    "What is the accuracy, precision (PPV) and recall (sensitivity)? if the accuracy is >90% and for that reason is considered good enough to use in practice, what is the customer of the model most likely to complain about?\n",
    "\n",
    "3. In the cells below, redo the above code but make some modifications to the instruction part of the prompt to increase the positive predictive value (PPV), also known as the precision."
   ]
  },
  {
   "cell_type": "code",
   "execution_count": null,
   "id": "2cb6b0a7-29dc-4cdc-ab7d-535adf1a211e",
   "metadata": {},
   "outputs": [],
   "source": []
  }
 ],
 "metadata": {
  "kernelspec": {
   "display_name": "Python (smarterdx_env)",
   "language": "python",
   "name": "smarterdx_env"
  },
  "language_info": {
   "codemirror_mode": {
    "name": "ipython",
    "version": 3
   },
   "file_extension": ".py",
   "mimetype": "text/x-python",
   "name": "python",
   "nbconvert_exporter": "python",
   "pygments_lexer": "ipython3",
   "version": "3.12.9"
  }
 },
 "nbformat": 4,
 "nbformat_minor": 5
}
